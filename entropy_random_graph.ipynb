{
  "nbformat": 4,
  "nbformat_minor": 0,
  "metadata": {
    "colab": {
      "provenance": [],
      "toc_visible": true
    },
    "kernelspec": {
      "name": "python3",
      "display_name": "Python 3"
    },
    "language_info": {
      "name": "python"
    }
  },
  "cells": [
    {
      "cell_type": "code",
      "execution_count": null,
      "metadata": {
        "id": "IOsAPrTFX-xR"
      },
      "outputs": [],
      "source": [
        "import random\n",
        "import matplotlib.pyplot as plt\n",
        "import seaborn\n",
        "from sklearn import *\n",
        "import numpy as np\n",
        "import networkx as nx\n",
        "\n",
        "np.random.seed(42)"
      ]
    },
    {
      "cell_type": "markdown",
      "source": [
        "* Fazer para geomtrico, regular, mandar email suzana\n",
        "suzanadesiqueira@gmail.com\n",
        "\n",
        "* calcular entropia (Shannon, other types too) de grafos k regulares , stochastic block model, geometrico\n",
        "\n",
        "* revisar block stochastic model\n",
        "\n",
        "* Fazer simulacoes e calcular e compara de forma empirica e analitica a entropia de grafos aleatorios\n",
        "\n",
        "* https://en.wikipedia.org/wiki/Maximum-entropy_random_graph_model\n",
        "\n",
        "* https://chih-ling-hsu.github.io/2020/05/15/Graph-Models#barabasi-albert-model"
      ],
      "metadata": {
        "id": "KJOQqCAMYDNJ"
      }
    },
    {
      "cell_type": "code",
      "source": [
        "def plot_graph_from_adjacency(adj_matrix):\n",
        "    G = nx.Graph()  # Initialize an undirected graph\n",
        "    n = len(adj_matrix)\n",
        "\n",
        "    # Add edges to the graph\n",
        "    for i in range(n):\n",
        "        for j in range(n):\n",
        "            if adj_matrix[i][j] == 1:\n",
        "                G.add_edge(i, j)\n",
        "\n",
        "    # Draw the graph\n",
        "    nx.draw(G, with_labels=True, node_size=700, node_color=\"skyblue\", font_size=15, font_weight='bold')\n",
        "    plt.show()\n"
      ],
      "metadata": {
        "id": "frvWtBchZJ59"
      },
      "execution_count": null,
      "outputs": []
    },
    {
      "cell_type": "markdown",
      "source": [
        "# Erdos-Renyi"
      ],
      "metadata": {
        "id": "yBekxtg4Z1gO"
      }
    },
    {
      "cell_type": "code",
      "source": [
        "n = 10  # número de vértices\n",
        "p = 0.6  # probabilidade de uma aresta existir\n",
        "m = 100  # número de simulações\n",
        "\n",
        "def shannon_entropy(p):\n",
        "    \"\"\"Calcula a entropia de Shannon para uma probabilidade p.\"\"\"\n",
        "    if p == 0 or p == 1:  # Evitar log(0)\n",
        "        return 0\n",
        "    return -p * np.log2(p) - (1-p) * np.log2(1-p)\n",
        "\n",
        "def empirical_entropy(graph):\n",
        "    \"\"\"Calcula a entropia empírica de um grafo.\"\"\"\n",
        "    total_edges_possible = n * (n - 1) / 2\n",
        "    actual_edges = np.sum(graph)\n",
        "    p_edge = actual_edges / total_edges_possible\n",
        "    return shannon_entropy(p_edge)\n",
        "\n",
        "# Gerar m grafos aleatórios de Erdős-Rényi e calcular a entropia empírica para cada grafo\n",
        "entropies = []\n",
        "for _ in range(m):\n",
        "    # Gerar um grafo aleatório de Erdős-Rényi\n",
        "    graph = np.random.rand(n, n) < p\n",
        "    graph = np.triu(graph, 1)  # Pegar apenas a parte triangular superior para evitar duplicação\n",
        "    entropies.append(empirical_entropy(graph))\n",
        "\n",
        "# Calcular a média das entropias empíricas\n",
        "mean_entropy = np.mean(entropies)\n",
        "print('Mean entropy', mean_entropy)\n",
        "\n",
        "# Calcular a entropia de Shannon analiticamente para o valor específico de p\n",
        "analytical_entropy = shannon_entropy(p)\n",
        "print('Ground Truth:', analytical_entropy)"
      ],
      "metadata": {
        "colab": {
          "base_uri": "https://localhost:8080/"
        },
        "id": "K78kvZcdYC2H",
        "outputId": "1fdfe9ea-3a90-42d8-b34e-0b6943a34b58"
      },
      "execution_count": null,
      "outputs": [
        {
          "output_type": "stream",
          "name": "stdout",
          "text": [
            "Mean entropy 0.9603815621020769\n",
            "Ground Truth: 0.9709505944546686\n"
          ]
        }
      ]
    },
    {
      "cell_type": "code",
      "source": [
        "#graph = np.random.rand(n,n) < .22\n",
        "#plot_graph_from_adjacency(graph)"
      ],
      "metadata": {
        "id": "1aGH-yR7Y-Ur"
      },
      "execution_count": null,
      "outputs": []
    },
    {
      "cell_type": "code",
      "source": [],
      "metadata": {
        "id": "lmkL1OKgZF-L"
      },
      "execution_count": null,
      "outputs": []
    },
    {
      "cell_type": "markdown",
      "source": [
        "# Barabasi Albert"
      ],
      "metadata": {
        "id": "mva70fAiZ5TY"
      }
    },
    {
      "cell_type": "markdown",
      "source": [
        "1. Starts with 2 connected nodes\n",
        "2. Add a new node v\n",
        "3. Select 1 existing nodes u such that u≠v with probability P(u)=deg(u)∑x∈Ndeg(x)\n",
        "4. Create a link between u and v\n",
        "5. Go back to Step 2"
      ],
      "metadata": {
        "id": "ksjYwaHLb0UP"
      }
    },
    {
      "cell_type": "code",
      "source": [
        "m_0 = 3  # número inicial de vértices\n",
        "m = 2  # número de arestas que cada novo vértice forma\n",
        "s = 10  # número de simulações\n",
        "\n",
        "def empirical_entropy_BA(graph):\n",
        "    \"\"\"Calcula a entropia empírica de um grafo Barabási-Albert.\"\"\"\n",
        "    total_edges_possible = n * (n - 1) / 2\n",
        "    actual_edges = len(graph.edges())\n",
        "    p_edge = actual_edges / total_edges_possible\n",
        "    return shannon_entropy(p_edge)\n",
        "\n",
        "# Gerar s grafos Barabási-Albert e calcular a entropia empírica para cada grafo\n",
        "entropies_BA = []\n",
        "for _ in range(s):\n",
        "    # Gerar um grafo Barabási-Albert\n",
        "    graph = nx.barabasi_albert_graph(n, m)\n",
        "    entropies_BA.append(empirical_entropy_BA(graph))\n",
        "\n",
        "# Calcular a média das entropias empíricas\n",
        "mean_entropy_BA = np.mean(entropies_BA)\n",
        "mean_entropy_BA\n"
      ],
      "metadata": {
        "colab": {
          "base_uri": "https://localhost:8080/"
        },
        "id": "OJI2uaaYZ8lr",
        "outputId": "db8e7de8-d6d2-412e-b3bb-621a13cac167"
      },
      "execution_count": null,
      "outputs": [
        {
          "output_type": "execute_result",
          "data": {
            "text/plain": [
              "0.9389320105807949"
            ]
          },
          "metadata": {},
          "execution_count": 20
        }
      ]
    },
    {
      "cell_type": "markdown",
      "source": [
        "* Barabási-Albert implica que a probabilidade de uma aresta se formar\n",
        "muda a medida que o grafo cresce\n",
        "* não há fórmula simples para entropia nesse caso??"
      ],
      "metadata": {
        "id": "ThrfWcxfcclh"
      }
    },
    {
      "cell_type": "markdown",
      "source": [
        "# Watts-Strogatz\n"
      ],
      "metadata": {
        "id": "rUEzTvdQZ9KW"
      }
    },
    {
      "cell_type": "markdown",
      "source": [
        "* https://www.kth.se/social/files/5605669af2765468be471eda/lecture%204%20%282015%29.pdf"
      ],
      "metadata": {
        "id": "mrOTH-3okC23"
      }
    },
    {
      "cell_type": "code",
      "source": [
        "# Parâmetros fornecidos\n",
        "k = 2  # cada vértice é inicialmente conectado a k vizinhos mais próximos\n",
        "p = 0.4  # probabilidade de reconectar uma aresta\n",
        "\n",
        "def empirical_entropy_WS(graph):\n",
        "    \"\"\"Calcula a entropia empírica de um grafo Watts-Strogatz.\"\"\"\n",
        "    total_edges_possible = n * (n - 1) / 2\n",
        "    actual_edges = len(graph.edges())\n",
        "    p_edge = actual_edges / total_edges_possible\n",
        "    return shannon_entropy(p_edge)\n",
        "\n",
        "# Gerar s grafos Watts-Strogatz e calcular a entropia empírica para cada grafo\n",
        "entropies_WS = []\n",
        "for _ in range(s):\n",
        "    # Gerar um grafo Watts-Strogatz\n",
        "    graph = nx.watts_strogatz_graph(n, k, p)\n",
        "    entropies_WS.append(empirical_entropy_WS(graph))\n",
        "\n",
        "# Calcular a média das entropias empíricas\n",
        "mean_entropy_WS = np.mean(entropies_WS)\n",
        "mean_entropy_WS\n"
      ],
      "metadata": {
        "colab": {
          "base_uri": "https://localhost:8080/"
        },
        "id": "u6liB6MrZ6Wg",
        "outputId": "99ca1e3d-6b65-42c1-9244-a15085bdc59f"
      },
      "execution_count": null,
      "outputs": [
        {
          "output_type": "execute_result",
          "data": {
            "text/plain": [
              "0.7642045065086203"
            ]
          },
          "metadata": {},
          "execution_count": 21
        }
      ]
    },
    {
      "cell_type": "markdown",
      "source": [
        "* Entropia analitica? Problema similar ao barabasi albert"
      ],
      "metadata": {
        "id": "l4vYSMwyducw"
      }
    },
    {
      "cell_type": "markdown",
      "source": [
        "#Stochastic Block model\n",
        "\n",
        "* https://epub.ub.uni-muenchen.de/69180/1/BA_GruberCornelia.pdf\n",
        "\n",
        "#### **Concept:**\n",
        "The core idea of the SBM is that nodes in a graph are grouped into a predetermined number of blocks or communities. The probability that a given edge exists between two nodes then depends solely on the communities to which the nodes belong.\n",
        "\n",
        "#### **Parameters:**\n",
        "- **Blocks/Communities:** Nodes are partitioned into \\( K \\) blocks or communities. Each node belongs to one and only one community.\n",
        "- **Connection Probabilities:** A \\( K \\times K \\) matrix \\( P \\) where \\( P_{ij} \\) represents the probability of an edge between a node in community \\( i \\) and a node in community \\( j \\). The diagonal elements represent the probabilities of connections within the same community, and the off-diagonal elements represent the probabilities of connections between different communities.\n",
        "\n",
        "#### **Procedure:**\n",
        "1. Divide nodes into \\( K \\) distinct communities.\n",
        "2. For each pair of nodes, decide whether to place an edge between them based on the connection probabilities. Specifically, if nodes \\( u \\) and \\( v \\) belong to communities \\( i \\) and \\( j \\), respectively, then they are connected with probability \\( P_{ij} \\).\n",
        "\n",
        "#### **Applications and Features:**\n",
        "- **Community Detection:** The SBM is often used in community detection algorithms. By fitting an SBM to observed network data, one can infer the likely community membership of each node.\n",
        "- **Flexibility:** The SBM can capture a wide range of network structures. It can model networks with dense connections within communities and sparse connections between communities, among other patterns.\n",
        "- **Generalizations:** There are several generalizations and extensions of the SBM, like the Degree-Corrected Stochastic Block Model, which accounts for node degree heterogeneity.\n",
        "\n",
        "#### **Limitations:**\n",
        "- **Assumptions:** The SBM assumes that the only factor determining the likelihood of a connection between two nodes is the communities to which they belong. This may not capture all the complexities of real-world networks.\n",
        "- **Number of Communities:** In many applications, the number of communities \\( K \\) must be specified in advance, which can be a limitation if this number is not known."
      ],
      "metadata": {
        "id": "YmYKOs7DdjMR"
      }
    },
    {
      "cell_type": "code",
      "source": [
        "n = 1000\n",
        "z = [0, 0, 0, 0, 1, 1, 1, 1, 1, 1]  # rótulos de comunidade\n",
        "p_matrix = [[0.4, 0.3], [0.3, 0.4]]  # matriz de probabilidade\n",
        "\n",
        "def empirical_entropy_SBM(graph):\n",
        "    \"\"\"Calcula a entropia empírica de um grafo Stochastic Block Model.\"\"\"\n",
        "    total_edges_possible = n * (n - 1) / 2\n",
        "    actual_edges = len(graph.edges())\n",
        "    p_edge = actual_edges / total_edges_possible\n",
        "    return shannon_entropy(p_edge)\n",
        "\n",
        "# Gerar s grafos Stochastic Block Model e calcular a entropia empírica para cada grafo\n",
        "entropies_SBM = []\n",
        "for _ in range(s):\n",
        "    # Gerar um grafo Stochastic Block Model\n",
        "    graph = nx.stochastic_block_model([5, 5], p_matrix)\n",
        "    entropies_SBM.append(empirical_entropy_SBM(graph))\n",
        "\n",
        "# Calcular a média das entropias empíricas\n",
        "mean_entropy_SBM = np.mean(entropies_SBM)\n",
        "mean_entropy_SBM\n"
      ],
      "metadata": {
        "colab": {
          "base_uri": "https://localhost:8080/"
        },
        "id": "jaxmi6bxdlSL",
        "outputId": "e2f2e9cc-eb04-4764-f62d-237ab0ce3f68"
      },
      "execution_count": null,
      "outputs": [
        {
          "output_type": "execute_result",
          "data": {
            "text/plain": [
              "0.0005091582926253094"
            ]
          },
          "metadata": {},
          "execution_count": 45
        }
      ]
    },
    {
      "cell_type": "markdown",
      "source": [
        "Ideia Básica:\n",
        "Esta abordagem considera cada combinação de blocos (ou comunidades) separadamente. Para cada par de blocos, ela calcula a entropia associada à probabilidade de uma aresta ocorrer entre os vértices desses blocos e, em seguida, toma uma média ponderada de todas essas entropias.\n",
        "\n",
        "Passos:\n",
        "1. Para cada combinação de blocos \\( i \\) e \\( j \\), determine a probabilidade \\( p_{ij} \\) de uma aresta entre eles usando a matriz de probabilidade \\( p \\).\n",
        "2. Calcule a entropia de Shannon para essa probabilidade \\( p_{ij} \\).\n",
        "3. Tome a média ponderada de todas essas entropias, ponderando pelo número de pares de vértices possíveis para cada combinação de blocos.\n"
      ],
      "metadata": {
        "id": "1bBCgtp0gMzJ"
      }
    },
    {
      "cell_type": "code",
      "source": [
        "def blockwise_entropy(i, j, community_sizes, p_matrix):\n",
        "    \"\"\"Calcula a entropia para arestas entre os blocos i e j.\"\"\"\n",
        "    p_ij = p_matrix[i][j]\n",
        "    return community_sizes[i] * community_sizes[j] * shannon_entropy(p_ij)\n",
        "\n",
        "# Calcular a entropia blockwise para cada combinação de blocos\n",
        "community_sizes = [5, 5]  # Tamanho de cada comunidade\n",
        "total_pairs = n * (n - 1) / 2\n",
        "total_entropy = 0\n",
        "\n",
        "for i in range(len(community_sizes)):\n",
        "    for j in range(len(community_sizes)):\n",
        "        total_entropy += blockwise_entropy(i, j, community_sizes, p_matrix)\n",
        "\n",
        "# Calcular a entropia média ponderada\n",
        "analytical_entropy_SBM = total_entropy / total_pairs\n",
        "analytical_entropy_SBM\n"
      ],
      "metadata": {
        "colab": {
          "base_uri": "https://localhost:8080/"
        },
        "id": "KdrPmPyte8R7",
        "outputId": "53232ea5-0970-4c01-a5e0-f345a64fe1bb"
      },
      "execution_count": null,
      "outputs": [
        {
          "output_type": "execute_result",
          "data": {
            "text/plain": [
              "0.0001854095589274636"
            ]
          },
          "metadata": {},
          "execution_count": 46
        }
      ]
    },
    {
      "cell_type": "markdown",
      "source": [
        "Ideia Básica: Em vez de considerar cada combinação de blocos separadamente, esta abordagem calcula diretamente a probabilidade média ponderada de uma aresta ocorrer em todo o grafo. Em seguida, ela utiliza essa probabilidade única para calcular a entropia.\n",
        "\n",
        "Passos:\n",
        "\n",
        "1. Calcule a probabilidade média ponderada\n",
        "p_avg de uma aresta ocorrer no grafo. Isso é feito somando as probabilidades de arestas para todas as combinações de blocos, ponderadas pelo tamanho dos blocos, e dividindo pelo total de pares de vértices possíveis.\n",
        "\n",
        "2. Calcule a entropia de Shannon para  p_avg"
      ],
      "metadata": {
        "id": "4kcySC7ff-jN"
      }
    },
    {
      "cell_type": "code",
      "source": [
        "# Calcular a probabilidade média ponderada de uma aresta ocorrer no grafo\n",
        "p_avg = sum(p_matrix[i][j] * community_sizes[i] * community_sizes[j]\n",
        "            for i in range(len(community_sizes))\n",
        "            for j in range(len(community_sizes))) / total_pairs\n",
        "\n",
        "# Calcular a entropia de Shannon para p_avg\n",
        "analytical_entropy_SBM_direct = shannon_entropy(p_avg)\n",
        "analytical_entropy_SBM_direct\n"
      ],
      "metadata": {
        "colab": {
          "base_uri": "https://localhost:8080/"
        },
        "id": "EiCUjgEle8hh",
        "outputId": "87352819-99a8-44ae-f495-fdc162fb734e"
      },
      "execution_count": null,
      "outputs": [
        {
          "output_type": "execute_result",
          "data": {
            "text/plain": [
              "0.001068112176300597"
            ]
          },
          "metadata": {},
          "execution_count": 47
        }
      ]
    },
    {
      "cell_type": "code",
      "source": [],
      "metadata": {
        "id": "zuU2_4tIfaw0"
      },
      "execution_count": null,
      "outputs": []
    }
  ]
}